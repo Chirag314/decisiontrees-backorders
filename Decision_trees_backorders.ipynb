{
  "nbformat": 4,
  "nbformat_minor": 0,
  "metadata": {
    "colab": {
      "provenance": [],
      "collapsed_sections": [],
      "authorship_tag": "ABX9TyN8FAZ6fPffYsIo6TDn1W9Y",
      "include_colab_link": true
    },
    "kernelspec": {
      "name": "python3",
      "display_name": "Python 3"
    },
    "language_info": {
      "name": "python"
    }
  },
  "cells": [
    {
      "cell_type": "markdown",
      "metadata": {
        "id": "view-in-github",
        "colab_type": "text"
      },
      "source": [
        "<a href=\"https://colab.research.google.com/github/Chirag314/decisiontrees-backorders/blob/main/Decision_trees_backorders.ipynb\" target=\"_parent\"><img src=\"https://colab.research.google.com/assets/colab-badge.svg\" alt=\"Open In Colab\"/></a>"
      ]
    },
    {
      "cell_type": "markdown",
      "source": [
        "###This notebook is copied from exercises from book Ensemble Machine Learning Cookbook."
      ],
      "metadata": {
        "id": "de3ggC8Kv_99"
      }
    },
    {
      "cell_type": "code",
      "source": [
        "pip install --upgrade scikit-learn"
      ],
      "metadata": {
        "colab": {
          "base_uri": "https://localhost:8080/"
        },
        "id": "sxMjjIGYt4vq",
        "outputId": "af968ae1-59dc-411f-8b9b-236c68b52897"
      },
      "execution_count": 5,
      "outputs": [
        {
          "output_type": "stream",
          "name": "stdout",
          "text": [
            "Looking in indexes: https://pypi.org/simple, https://us-python.pkg.dev/colab-wheels/public/simple/\n",
            "Requirement already satisfied: scikit-learn in /usr/local/lib/python3.7/dist-packages (1.0.2)\n",
            "Requirement already satisfied: joblib>=0.11 in /usr/local/lib/python3.7/dist-packages (from scikit-learn) (1.1.0)\n",
            "Requirement already satisfied: threadpoolctl>=2.0.0 in /usr/local/lib/python3.7/dist-packages (from scikit-learn) (3.1.0)\n",
            "Requirement already satisfied: numpy>=1.14.6 in /usr/local/lib/python3.7/dist-packages (from scikit-learn) (1.21.6)\n",
            "Requirement already satisfied: scipy>=1.1.0 in /usr/local/lib/python3.7/dist-packages (from scikit-learn) (1.7.3)\n"
          ]
        }
      ]
    },
    {
      "cell_type": "code",
      "source": [
        "#import required libraries\n",
        "import os\n",
        "import pandas as pd\n",
        "import numpy as np\n",
        "import matplotlib.pyplot as plt\n",
        "import seaborn as sns\n",
        "from sklearn.preprocessing import StandardScaler\n",
        "from sklearn.metrics import accuracy_score\n",
        "from sklearn.metrics import  roc_curve, auc\n",
        "from sklearn.metrics import confusion_matrix\n",
        "from sklearn.model_selection import train_test_split\n",
        "from sklearn.feature_extraction.text import CountVectorizer\n",
        "from sklearn.naive_bayes import MultinomialNB\n",
        "\n",
        "import itertools\n",
        "from sklearn import tree"
      ],
      "metadata": {
        "id": "CWjW7ISB-O8s"
      },
      "execution_count": 35,
      "outputs": []
    },
    {
      "cell_type": "code",
      "execution_count": 10,
      "metadata": {
        "colab": {
          "base_uri": "https://localhost:8080/"
        },
        "id": "rror9ooAv2jU",
        "outputId": "83e9e3b6-de02-465c-9963-a559e21ddcfb"
      },
      "outputs": [
        {
          "output_type": "stream",
          "name": "stdout",
          "text": [
            "       sku  national_inv  lead_time  in_transit_qty  forecast_3_month  \\\n",
            "0  1888279           117        NaN               0                 0   \n",
            "1  1870557             7        2.0               0                 0   \n",
            "2  1475481           258       15.0              10                10   \n",
            "3  1758220            46        2.0               0                 0   \n",
            "4  1360312             2        2.0               0                 4   \n",
            "\n",
            "   forecast_6_month  forecast_9_month  sales_1_month  sales_3_month  \\\n",
            "0                 0                 0              0              0   \n",
            "1                 0                 0              0              0   \n",
            "2                77               184             46            132   \n",
            "3                 0                 0              1              2   \n",
            "4                 6                10              2              2   \n",
            "\n",
            "   sales_6_month  sales_9_month  min_bank potential_issue  pieces_past_due  \\\n",
            "0             15             15         1              No                0   \n",
            "1              0              0         0              No                0   \n",
            "2            256            365        47              No                0   \n",
            "3              6              9         1              No                0   \n",
            "4              5              6         0              No                0   \n",
            "\n",
            "   perf_6_month_avg  perf_12_month_avg  local_bo_qty deck_risk oe_constraint  \\\n",
            "0            -99.00             -99.00             0        No            No   \n",
            "1              0.50               0.28             0       Yes            No   \n",
            "2              0.54               0.70             0        No            No   \n",
            "3              0.75               0.90             0       Yes            No   \n",
            "4              0.97               0.92             0        No            No   \n",
            "\n",
            "  ppap_risk stop_auto_buy rev_stop went_on_backorder  \n",
            "0       Yes           Yes       No                No  \n",
            "1        No           Yes       No                No  \n",
            "2        No           Yes       No                No  \n",
            "3        No           Yes       No                No  \n",
            "4        No           Yes       No                No  \n"
          ]
        }
      ],
      "source": [
        "# Read data from github. Use raw format and copy url# Note normal url and raw url will be different.\n",
        "import pandas as pd\n",
        "pd.options.display.max_rows=None\n",
        "pd.options.display.max_columns=None\n",
        "url = 'https://raw.githubusercontent.com/PacktPublishing/Ensemble-Machine-Learning-Cookbook/master/Chapter04/Decision%20Tree/backorders.csv'\n",
        "df_backorder = pd.read_csv(url)\n",
        "#df = pd.read_csv(url)\n",
        "print(df_backorder.head(5))"
      ]
    },
    {
      "cell_type": "code",
      "source": [
        "df_backorder.shape"
      ],
      "metadata": {
        "colab": {
          "base_uri": "https://localhost:8080/"
        },
        "id": "7Bssz3tOvWQW",
        "outputId": "4da78c41-67ff-46aa-f72e-2272812edd9f"
      },
      "execution_count": 15,
      "outputs": [
        {
          "output_type": "execute_result",
          "data": {
            "text/plain": [
              "(61589, 22)"
            ]
          },
          "metadata": {},
          "execution_count": 15
        }
      ]
    },
    {
      "cell_type": "code",
      "source": [
        "df_backorder.shape\n",
        "df_backorder.describe()"
      ],
      "metadata": {
        "colab": {
          "base_uri": "https://localhost:8080/",
          "height": 364
        },
        "id": "SHW82cySCym-",
        "outputId": "3d9c8051-5926-4732-e899-7a36d50231a3"
      },
      "execution_count": 11,
      "outputs": [
        {
          "output_type": "execute_result",
          "data": {
            "text/plain": [
              "                sku   national_inv     lead_time  in_transit_qty  \\\n",
              "count  6.158900e+04   61589.000000  58186.000000    61589.000000   \n",
              "mean   2.037188e+06     287.721882      7.559619       30.192843   \n",
              "std    6.564178e+05    4233.906931      6.498952      792.869253   \n",
              "min    1.068628e+06   -2999.000000      0.000000        0.000000   \n",
              "25%    1.498574e+06       3.000000      4.000000        0.000000   \n",
              "50%    1.898033e+06      10.000000      8.000000        0.000000   \n",
              "75%    2.314826e+06      57.000000      8.000000        0.000000   \n",
              "max    3.284895e+06  673445.000000     52.000000   170976.000000   \n",
              "\n",
              "       forecast_3_month  forecast_6_month  forecast_9_month  sales_1_month  \\\n",
              "count      6.158900e+04      6.158900e+04      6.158900e+04   61589.000000   \n",
              "mean       1.692728e+02      3.150413e+02      4.535760e+02      44.742957   \n",
              "std        5.286742e+03      9.774362e+03      1.420201e+04    1373.805831   \n",
              "min        0.000000e+00      0.000000e+00      0.000000e+00       0.000000   \n",
              "25%        0.000000e+00      0.000000e+00      0.000000e+00       0.000000   \n",
              "50%        0.000000e+00      0.000000e+00      0.000000e+00       0.000000   \n",
              "75%        1.200000e+01      2.500000e+01      3.600000e+01       6.000000   \n",
              "max        1.126656e+06      2.094336e+06      3.062016e+06  295197.000000   \n",
              "\n",
              "       sales_3_month  sales_6_month  sales_9_month       min_bank  \\\n",
              "count   61589.000000   6.158900e+04   6.158900e+04   61589.000000   \n",
              "mean      150.732631   2.835465e+02   4.196427e+02      43.087256   \n",
              "std      5224.959649   8.872270e+03   1.269858e+04     959.614135   \n",
              "min         0.000000   0.000000e+00   0.000000e+00       0.000000   \n",
              "25%         0.000000   0.000000e+00   0.000000e+00       0.000000   \n",
              "50%         2.000000   4.000000e+00   6.000000e+00       0.000000   \n",
              "75%        17.000000   3.400000e+01   5.100000e+01       3.000000   \n",
              "max    934593.000000   1.799099e+06   2.631590e+06  192978.000000   \n",
              "\n",
              "       pieces_past_due  perf_6_month_avg  perf_12_month_avg  local_bo_qty  \n",
              "count     61589.000000      61589.000000       61589.000000  61589.000000  \n",
              "mean          1.605400         -6.264182          -5.863664      1.205361  \n",
              "std          42.309229         25.537906          24.844514     29.981155  \n",
              "min           0.000000        -99.000000         -99.000000      0.000000  \n",
              "25%           0.000000          0.620000           0.640000      0.000000  \n",
              "50%           0.000000          0.820000           0.800000      0.000000  \n",
              "75%           0.000000          0.960000           0.950000      0.000000  \n",
              "max        7392.000000          1.000000           1.000000   2999.000000  "
            ],
            "text/html": [
              "\n",
              "  <div id=\"df-3d5265d5-02c7-4a9c-a1b1-91d440491224\">\n",
              "    <div class=\"colab-df-container\">\n",
              "      <div>\n",
              "<style scoped>\n",
              "    .dataframe tbody tr th:only-of-type {\n",
              "        vertical-align: middle;\n",
              "    }\n",
              "\n",
              "    .dataframe tbody tr th {\n",
              "        vertical-align: top;\n",
              "    }\n",
              "\n",
              "    .dataframe thead th {\n",
              "        text-align: right;\n",
              "    }\n",
              "</style>\n",
              "<table border=\"1\" class=\"dataframe\">\n",
              "  <thead>\n",
              "    <tr style=\"text-align: right;\">\n",
              "      <th></th>\n",
              "      <th>sku</th>\n",
              "      <th>national_inv</th>\n",
              "      <th>lead_time</th>\n",
              "      <th>in_transit_qty</th>\n",
              "      <th>forecast_3_month</th>\n",
              "      <th>forecast_6_month</th>\n",
              "      <th>forecast_9_month</th>\n",
              "      <th>sales_1_month</th>\n",
              "      <th>sales_3_month</th>\n",
              "      <th>sales_6_month</th>\n",
              "      <th>sales_9_month</th>\n",
              "      <th>min_bank</th>\n",
              "      <th>pieces_past_due</th>\n",
              "      <th>perf_6_month_avg</th>\n",
              "      <th>perf_12_month_avg</th>\n",
              "      <th>local_bo_qty</th>\n",
              "    </tr>\n",
              "  </thead>\n",
              "  <tbody>\n",
              "    <tr>\n",
              "      <th>count</th>\n",
              "      <td>6.158900e+04</td>\n",
              "      <td>61589.000000</td>\n",
              "      <td>58186.000000</td>\n",
              "      <td>61589.000000</td>\n",
              "      <td>6.158900e+04</td>\n",
              "      <td>6.158900e+04</td>\n",
              "      <td>6.158900e+04</td>\n",
              "      <td>61589.000000</td>\n",
              "      <td>61589.000000</td>\n",
              "      <td>6.158900e+04</td>\n",
              "      <td>6.158900e+04</td>\n",
              "      <td>61589.000000</td>\n",
              "      <td>61589.000000</td>\n",
              "      <td>61589.000000</td>\n",
              "      <td>61589.000000</td>\n",
              "      <td>61589.000000</td>\n",
              "    </tr>\n",
              "    <tr>\n",
              "      <th>mean</th>\n",
              "      <td>2.037188e+06</td>\n",
              "      <td>287.721882</td>\n",
              "      <td>7.559619</td>\n",
              "      <td>30.192843</td>\n",
              "      <td>1.692728e+02</td>\n",
              "      <td>3.150413e+02</td>\n",
              "      <td>4.535760e+02</td>\n",
              "      <td>44.742957</td>\n",
              "      <td>150.732631</td>\n",
              "      <td>2.835465e+02</td>\n",
              "      <td>4.196427e+02</td>\n",
              "      <td>43.087256</td>\n",
              "      <td>1.605400</td>\n",
              "      <td>-6.264182</td>\n",
              "      <td>-5.863664</td>\n",
              "      <td>1.205361</td>\n",
              "    </tr>\n",
              "    <tr>\n",
              "      <th>std</th>\n",
              "      <td>6.564178e+05</td>\n",
              "      <td>4233.906931</td>\n",
              "      <td>6.498952</td>\n",
              "      <td>792.869253</td>\n",
              "      <td>5.286742e+03</td>\n",
              "      <td>9.774362e+03</td>\n",
              "      <td>1.420201e+04</td>\n",
              "      <td>1373.805831</td>\n",
              "      <td>5224.959649</td>\n",
              "      <td>8.872270e+03</td>\n",
              "      <td>1.269858e+04</td>\n",
              "      <td>959.614135</td>\n",
              "      <td>42.309229</td>\n",
              "      <td>25.537906</td>\n",
              "      <td>24.844514</td>\n",
              "      <td>29.981155</td>\n",
              "    </tr>\n",
              "    <tr>\n",
              "      <th>min</th>\n",
              "      <td>1.068628e+06</td>\n",
              "      <td>-2999.000000</td>\n",
              "      <td>0.000000</td>\n",
              "      <td>0.000000</td>\n",
              "      <td>0.000000e+00</td>\n",
              "      <td>0.000000e+00</td>\n",
              "      <td>0.000000e+00</td>\n",
              "      <td>0.000000</td>\n",
              "      <td>0.000000</td>\n",
              "      <td>0.000000e+00</td>\n",
              "      <td>0.000000e+00</td>\n",
              "      <td>0.000000</td>\n",
              "      <td>0.000000</td>\n",
              "      <td>-99.000000</td>\n",
              "      <td>-99.000000</td>\n",
              "      <td>0.000000</td>\n",
              "    </tr>\n",
              "    <tr>\n",
              "      <th>25%</th>\n",
              "      <td>1.498574e+06</td>\n",
              "      <td>3.000000</td>\n",
              "      <td>4.000000</td>\n",
              "      <td>0.000000</td>\n",
              "      <td>0.000000e+00</td>\n",
              "      <td>0.000000e+00</td>\n",
              "      <td>0.000000e+00</td>\n",
              "      <td>0.000000</td>\n",
              "      <td>0.000000</td>\n",
              "      <td>0.000000e+00</td>\n",
              "      <td>0.000000e+00</td>\n",
              "      <td>0.000000</td>\n",
              "      <td>0.000000</td>\n",
              "      <td>0.620000</td>\n",
              "      <td>0.640000</td>\n",
              "      <td>0.000000</td>\n",
              "    </tr>\n",
              "    <tr>\n",
              "      <th>50%</th>\n",
              "      <td>1.898033e+06</td>\n",
              "      <td>10.000000</td>\n",
              "      <td>8.000000</td>\n",
              "      <td>0.000000</td>\n",
              "      <td>0.000000e+00</td>\n",
              "      <td>0.000000e+00</td>\n",
              "      <td>0.000000e+00</td>\n",
              "      <td>0.000000</td>\n",
              "      <td>2.000000</td>\n",
              "      <td>4.000000e+00</td>\n",
              "      <td>6.000000e+00</td>\n",
              "      <td>0.000000</td>\n",
              "      <td>0.000000</td>\n",
              "      <td>0.820000</td>\n",
              "      <td>0.800000</td>\n",
              "      <td>0.000000</td>\n",
              "    </tr>\n",
              "    <tr>\n",
              "      <th>75%</th>\n",
              "      <td>2.314826e+06</td>\n",
              "      <td>57.000000</td>\n",
              "      <td>8.000000</td>\n",
              "      <td>0.000000</td>\n",
              "      <td>1.200000e+01</td>\n",
              "      <td>2.500000e+01</td>\n",
              "      <td>3.600000e+01</td>\n",
              "      <td>6.000000</td>\n",
              "      <td>17.000000</td>\n",
              "      <td>3.400000e+01</td>\n",
              "      <td>5.100000e+01</td>\n",
              "      <td>3.000000</td>\n",
              "      <td>0.000000</td>\n",
              "      <td>0.960000</td>\n",
              "      <td>0.950000</td>\n",
              "      <td>0.000000</td>\n",
              "    </tr>\n",
              "    <tr>\n",
              "      <th>max</th>\n",
              "      <td>3.284895e+06</td>\n",
              "      <td>673445.000000</td>\n",
              "      <td>52.000000</td>\n",
              "      <td>170976.000000</td>\n",
              "      <td>1.126656e+06</td>\n",
              "      <td>2.094336e+06</td>\n",
              "      <td>3.062016e+06</td>\n",
              "      <td>295197.000000</td>\n",
              "      <td>934593.000000</td>\n",
              "      <td>1.799099e+06</td>\n",
              "      <td>2.631590e+06</td>\n",
              "      <td>192978.000000</td>\n",
              "      <td>7392.000000</td>\n",
              "      <td>1.000000</td>\n",
              "      <td>1.000000</td>\n",
              "      <td>2999.000000</td>\n",
              "    </tr>\n",
              "  </tbody>\n",
              "</table>\n",
              "</div>\n",
              "      <button class=\"colab-df-convert\" onclick=\"convertToInteractive('df-3d5265d5-02c7-4a9c-a1b1-91d440491224')\"\n",
              "              title=\"Convert this dataframe to an interactive table.\"\n",
              "              style=\"display:none;\">\n",
              "        \n",
              "  <svg xmlns=\"http://www.w3.org/2000/svg\" height=\"24px\"viewBox=\"0 0 24 24\"\n",
              "       width=\"24px\">\n",
              "    <path d=\"M0 0h24v24H0V0z\" fill=\"none\"/>\n",
              "    <path d=\"M18.56 5.44l.94 2.06.94-2.06 2.06-.94-2.06-.94-.94-2.06-.94 2.06-2.06.94zm-11 1L8.5 8.5l.94-2.06 2.06-.94-2.06-.94L8.5 2.5l-.94 2.06-2.06.94zm10 10l.94 2.06.94-2.06 2.06-.94-2.06-.94-.94-2.06-.94 2.06-2.06.94z\"/><path d=\"M17.41 7.96l-1.37-1.37c-.4-.4-.92-.59-1.43-.59-.52 0-1.04.2-1.43.59L10.3 9.45l-7.72 7.72c-.78.78-.78 2.05 0 2.83L4 21.41c.39.39.9.59 1.41.59.51 0 1.02-.2 1.41-.59l7.78-7.78 2.81-2.81c.8-.78.8-2.07 0-2.86zM5.41 20L4 18.59l7.72-7.72 1.47 1.35L5.41 20z\"/>\n",
              "  </svg>\n",
              "      </button>\n",
              "      \n",
              "  <style>\n",
              "    .colab-df-container {\n",
              "      display:flex;\n",
              "      flex-wrap:wrap;\n",
              "      gap: 12px;\n",
              "    }\n",
              "\n",
              "    .colab-df-convert {\n",
              "      background-color: #E8F0FE;\n",
              "      border: none;\n",
              "      border-radius: 50%;\n",
              "      cursor: pointer;\n",
              "      display: none;\n",
              "      fill: #1967D2;\n",
              "      height: 32px;\n",
              "      padding: 0 0 0 0;\n",
              "      width: 32px;\n",
              "    }\n",
              "\n",
              "    .colab-df-convert:hover {\n",
              "      background-color: #E2EBFA;\n",
              "      box-shadow: 0px 1px 2px rgba(60, 64, 67, 0.3), 0px 1px 3px 1px rgba(60, 64, 67, 0.15);\n",
              "      fill: #174EA6;\n",
              "    }\n",
              "\n",
              "    [theme=dark] .colab-df-convert {\n",
              "      background-color: #3B4455;\n",
              "      fill: #D2E3FC;\n",
              "    }\n",
              "\n",
              "    [theme=dark] .colab-df-convert:hover {\n",
              "      background-color: #434B5C;\n",
              "      box-shadow: 0px 1px 3px 1px rgba(0, 0, 0, 0.15);\n",
              "      filter: drop-shadow(0px 1px 2px rgba(0, 0, 0, 0.3));\n",
              "      fill: #FFFFFF;\n",
              "    }\n",
              "  </style>\n",
              "\n",
              "      <script>\n",
              "        const buttonEl =\n",
              "          document.querySelector('#df-3d5265d5-02c7-4a9c-a1b1-91d440491224 button.colab-df-convert');\n",
              "        buttonEl.style.display =\n",
              "          google.colab.kernel.accessAllowed ? 'block' : 'none';\n",
              "\n",
              "        async function convertToInteractive(key) {\n",
              "          const element = document.querySelector('#df-3d5265d5-02c7-4a9c-a1b1-91d440491224');\n",
              "          const dataTable =\n",
              "            await google.colab.kernel.invokeFunction('convertToInteractive',\n",
              "                                                     [key], {});\n",
              "          if (!dataTable) return;\n",
              "\n",
              "          const docLinkHtml = 'Like what you see? Visit the ' +\n",
              "            '<a target=\"_blank\" href=https://colab.research.google.com/notebooks/data_table.ipynb>data table notebook</a>'\n",
              "            + ' to learn more about interactive tables.';\n",
              "          element.innerHTML = '';\n",
              "          dataTable['output_type'] = 'display_data';\n",
              "          await google.colab.output.renderOutput(dataTable, element);\n",
              "          const docLink = document.createElement('div');\n",
              "          docLink.innerHTML = docLinkHtml;\n",
              "          element.appendChild(docLink);\n",
              "        }\n",
              "      </script>\n",
              "    </div>\n",
              "  </div>\n",
              "  "
            ]
          },
          "metadata": {},
          "execution_count": 11
        }
      ]
    },
    {
      "cell_type": "code",
      "source": [
        "# Check the data types\n",
        "df_backorder.dtypes"
      ],
      "metadata": {
        "colab": {
          "base_uri": "https://localhost:8080/"
        },
        "id": "QXd2PF03J2db",
        "outputId": "2a6cec08-d5d2-4c65-9503-387ca426217f"
      },
      "execution_count": 12,
      "outputs": [
        {
          "output_type": "execute_result",
          "data": {
            "text/plain": [
              "sku                    int64\n",
              "national_inv           int64\n",
              "lead_time            float64\n",
              "in_transit_qty         int64\n",
              "forecast_3_month       int64\n",
              "forecast_6_month       int64\n",
              "forecast_9_month       int64\n",
              "sales_1_month          int64\n",
              "sales_3_month          int64\n",
              "sales_6_month          int64\n",
              "sales_9_month          int64\n",
              "min_bank               int64\n",
              "potential_issue       object\n",
              "pieces_past_due        int64\n",
              "perf_6_month_avg     float64\n",
              "perf_12_month_avg    float64\n",
              "local_bo_qty           int64\n",
              "deck_risk             object\n",
              "oe_constraint         object\n",
              "ppap_risk             object\n",
              "stop_auto_buy         object\n",
              "rev_stop              object\n",
              "went_on_backorder     object\n",
              "dtype: object"
            ]
          },
          "metadata": {},
          "execution_count": 12
        }
      ]
    },
    {
      "cell_type": "markdown",
      "source": [
        "We can see that sku is an identifier and will be of no use to us for our model-building exercise. We will, therefore, drop sku from our DataFrame as follows:"
      ],
      "metadata": {
        "id": "Yhu8dAqTvDaf"
      }
    },
    {
      "cell_type": "code",
      "source": [
        "df_backorder.drop('sku',axis=1,inplace=True)"
      ],
      "metadata": {
        "id": "nktKYl-vC5eT"
      },
      "execution_count": 13,
      "outputs": []
    },
    {
      "cell_type": "code",
      "source": [
        "# check missing values\n",
        "df_backorder.isnull().sum()"
      ],
      "metadata": {
        "colab": {
          "base_uri": "https://localhost:8080/"
        },
        "id": "VcgsCJAGC5cN",
        "outputId": "6c904511-aa07-4159-d37e-a1bf20ae8832"
      },
      "execution_count": 14,
      "outputs": [
        {
          "output_type": "execute_result",
          "data": {
            "text/plain": [
              "national_inv            0\n",
              "lead_time            3403\n",
              "in_transit_qty          0\n",
              "forecast_3_month        0\n",
              "forecast_6_month        0\n",
              "forecast_9_month        0\n",
              "sales_1_month           0\n",
              "sales_3_month           0\n",
              "sales_6_month           0\n",
              "sales_9_month           0\n",
              "min_bank                0\n",
              "potential_issue         0\n",
              "pieces_past_due         0\n",
              "perf_6_month_avg        0\n",
              "perf_12_month_avg       0\n",
              "local_bo_qty            0\n",
              "deck_risk               0\n",
              "oe_constraint           0\n",
              "ppap_risk               0\n",
              "stop_auto_buy           0\n",
              "rev_stop                0\n",
              "went_on_backorder       0\n",
              "dtype: int64"
            ]
          },
          "metadata": {},
          "execution_count": 14
        }
      ]
    },
    {
      "cell_type": "markdown",
      "source": [
        "#####since number of missing values in the lead_time variable is about 5% , we will remove all the observaions where lead_time is missing for our analysis"
      ],
      "metadata": {
        "id": "8LysqcOnDPh-"
      }
    },
    {
      "cell_type": "code",
      "source": [
        "df_backorder=df_backorder.dropna(axis=0)"
      ],
      "metadata": {
        "id": "WeOBPQDBnsPi"
      },
      "execution_count": 16,
      "outputs": []
    },
    {
      "cell_type": "code",
      "source": [
        "# We now need to encode our categorical variables. We select only the categorical variables and call pd.get_dummies() to dummy-code the non-numeric variables:\n",
        "non_numeric_attributes=df_backorder.select_dtypes(include=['object']).columns\n",
        "df_backorder=pd.get_dummies(columns=non_numeric_attributes,data=df_backorder,prefix=non_numeric_attributes, prefix_sep='_',drop_first=True)\n",
        "df_backorder.dtypes"
      ],
      "metadata": {
        "id": "7dyplrTFDORt",
        "colab": {
          "base_uri": "https://localhost:8080/"
        },
        "outputId": "c12d597e-eddb-4610-97f2-af7814753c42"
      },
      "execution_count": 21,
      "outputs": [
        {
          "output_type": "execute_result",
          "data": {
            "text/plain": [
              "national_inv               int64\n",
              "lead_time                float64\n",
              "in_transit_qty             int64\n",
              "forecast_3_month           int64\n",
              "forecast_6_month           int64\n",
              "forecast_9_month           int64\n",
              "sales_1_month              int64\n",
              "sales_3_month              int64\n",
              "sales_6_month              int64\n",
              "sales_9_month              int64\n",
              "min_bank                   int64\n",
              "pieces_past_due            int64\n",
              "perf_6_month_avg         float64\n",
              "perf_12_month_avg        float64\n",
              "local_bo_qty               int64\n",
              "potential_issue-Yes        uint8\n",
              "deck_risk-Yes              uint8\n",
              "oe_constraint-Yes          uint8\n",
              "ppap_risk-Yes              uint8\n",
              "stop_auto_buy-Yes          uint8\n",
              "rev_stop-Yes               uint8\n",
              "went_on_backorder-Yes      uint8\n",
              "dtype: object"
            ]
          },
          "metadata": {},
          "execution_count": 21
        }
      ]
    },
    {
      "cell_type": "markdown",
      "source": [
        "With the preceding code, we get to see the datatypes. We notice that dummy-coded variables are all of the unsigned integer (uint8) type:"
      ],
      "metadata": {
        "id": "NHS_2R9zwamT"
      }
    },
    {
      "cell_type": "code",
      "source": [
        "#We will then look at our target variable distribution as follows:\n",
        "pd.value_counts(df_backorder['went_on_backorder-Yes'].values)\n"
      ],
      "metadata": {
        "id": "HMJTpbuGC5aA",
        "colab": {
          "base_uri": "https://localhost:8080/"
        },
        "outputId": "29cbc481-9ea4-4dbe-8a32-58b15311ceab"
      },
      "execution_count": 22,
      "outputs": [
        {
          "output_type": "execute_result",
          "data": {
            "text/plain": [
              "0    47217\n",
              "1    10969\n",
              "dtype: int64"
            ]
          },
          "metadata": {},
          "execution_count": 22
        }
      ]
    },
    {
      "cell_type": "code",
      "source": [
        "# We will now split our data into training and testing datasets:\n",
        "#Performing train test split on the data\n",
        "X,Y=df_backorder.loc[:,df_backorder.columns!='went_on_backorder-Yes'].values,df_backorder.loc[:,'went_on_backorder-Yes'].values\n",
        "\n",
        "# Split our dataset into train & test set\n",
        "X_train, X_test, Y_train, Y_test=train_test_split(X, Y, test_size=0.2,random_state=1)"
      ],
      "metadata": {
        "id": "QYVPhvsAC5Wd"
      },
      "execution_count": 23,
      "outputs": []
    },
    {
      "cell_type": "code",
      "source": [
        "#We can use the model to predict our class labels using both our training and our testing datasets:\n",
        "classifier=tree.DecisionTreeClassifier(random_state=1)\n",
        "#Fit our model to the data\n",
        "model_DT_Gini=classifier.fit(X_train, Y_train)\n",
        "model_DT_Gini"
      ],
      "metadata": {
        "id": "D9ASAKEFC5Uf",
        "colab": {
          "base_uri": "https://localhost:8080/"
        },
        "outputId": "ded40a70-d05a-4f7d-8c58-de1aa886d821"
      },
      "execution_count": 24,
      "outputs": [
        {
          "output_type": "execute_result",
          "data": {
            "text/plain": [
              "DecisionTreeClassifier(random_state=1)"
            ]
          },
          "metadata": {},
          "execution_count": 24
        }
      ]
    },
    {
      "cell_type": "code",
      "source": [
        "test_predictedvaues=model_DT_Gini.predict(X_test)\n",
        "\n",
        "#Check accuracy\n",
        "acc=accuracy_score(Y_test,test_predictedvaues)\n",
        "print(\"Accuracy is \",acc)\n",
        "\n",
        "# CHeck TP TN FP FN\n",
        "tp,fp, fn,tn=confusion_matrix(Y_test, test_predictedvaues).ravel()\n",
        "print(\"TN:\",tn, \" FP:\",fp, \" FN:\",fn, \" TP:\",tp)"
      ],
      "metadata": {
        "colab": {
          "base_uri": "https://localhost:8080/"
        },
        "id": "Zv-qZPuEC5SC",
        "outputId": "de367d27-6666-4a3b-a6ed-788013a2d30a"
      },
      "execution_count": 25,
      "outputs": [
        {
          "output_type": "stream",
          "name": "stdout",
          "text": [
            "Accuracy is  0.9009279945007733\n",
            "TN: 1701  FP: 655  FN: 498  TP: 8784\n"
          ]
        }
      ]
    },
    {
      "cell_type": "code",
      "source": [
        "\n",
        "from sklearn.metrics import plot_confusion_matrix\n",
        "from sklearn.metrics import confusion_matrix\n",
        "#We will now use a plot_confusion_matrix function to plot our confusion matrix.\n",
        "# This function is taken from http://scikit-learn.org and is readily available there, so we won't show this function here. It is, however, provided with the code in the book for your reference\n",
        "target_names=[\"No\",\"Yes\"]\n",
        "# pass actual and predicted values to confusin matrix\n",
        "cm=confusion_matrix(Y_test, test_predictedvaues)\n",
        "plt.figure()\n",
        "plot_confusion_matrix(cm,Y_test, test_predictedvaues, labels=target_names, normalize=False)\n",
        "plt.show()"
      ],
      "metadata": {
        "colab": {
          "base_uri": "https://localhost:8080/",
          "height": 470
        },
        "id": "gKeKchsqC5Py",
        "outputId": "8bca333c-6ebf-41f6-bed8-3303a18c858f"
      },
      "execution_count": 50,
      "outputs": [
        {
          "output_type": "stream",
          "name": "stderr",
          "text": [
            "/usr/local/lib/python3.7/dist-packages/sklearn/utils/deprecation.py:87: FutureWarning: Function plot_confusion_matrix is deprecated; Function `plot_confusion_matrix` is deprecated in 1.0 and will be removed in 1.2. Use one of the class methods: ConfusionMatrixDisplay.from_predictions or ConfusionMatrixDisplay.from_estimator.\n",
            "  warnings.warn(msg, category=FutureWarning)\n"
          ]
        },
        {
          "output_type": "error",
          "ename": "ValueError",
          "evalue": "ignored",
          "traceback": [
            "\u001b[0;31m---------------------------------------------------------------------------\u001b[0m",
            "\u001b[0;31mValueError\u001b[0m                                Traceback (most recent call last)",
            "\u001b[0;32m<ipython-input-50-734ab402f339>\u001b[0m in \u001b[0;36m<module>\u001b[0;34m\u001b[0m\n\u001b[1;32m      7\u001b[0m \u001b[0mcm\u001b[0m\u001b[0;34m=\u001b[0m\u001b[0mconfusion_matrix\u001b[0m\u001b[0;34m(\u001b[0m\u001b[0mY_test\u001b[0m\u001b[0;34m,\u001b[0m \u001b[0mtest_predictedvaues\u001b[0m\u001b[0;34m)\u001b[0m\u001b[0;34m\u001b[0m\u001b[0;34m\u001b[0m\u001b[0m\n\u001b[1;32m      8\u001b[0m \u001b[0mplt\u001b[0m\u001b[0;34m.\u001b[0m\u001b[0mfigure\u001b[0m\u001b[0;34m(\u001b[0m\u001b[0;34m)\u001b[0m\u001b[0;34m\u001b[0m\u001b[0;34m\u001b[0m\u001b[0m\n\u001b[0;32m----> 9\u001b[0;31m \u001b[0mplot_confusion_matrix\u001b[0m\u001b[0;34m(\u001b[0m\u001b[0mcm\u001b[0m\u001b[0;34m,\u001b[0m\u001b[0mY_test\u001b[0m\u001b[0;34m,\u001b[0m \u001b[0mtest_predictedvaues\u001b[0m\u001b[0;34m,\u001b[0m \u001b[0mlabels\u001b[0m\u001b[0;34m=\u001b[0m\u001b[0mtarget_names\u001b[0m\u001b[0;34m,\u001b[0m \u001b[0mnormalize\u001b[0m\u001b[0;34m=\u001b[0m\u001b[0;32mFalse\u001b[0m\u001b[0;34m)\u001b[0m\u001b[0;34m\u001b[0m\u001b[0;34m\u001b[0m\u001b[0m\n\u001b[0m\u001b[1;32m     10\u001b[0m \u001b[0mplt\u001b[0m\u001b[0;34m.\u001b[0m\u001b[0mshow\u001b[0m\u001b[0;34m(\u001b[0m\u001b[0;34m)\u001b[0m\u001b[0;34m\u001b[0m\u001b[0;34m\u001b[0m\u001b[0m\n",
            "\u001b[0;32m/usr/local/lib/python3.7/dist-packages/sklearn/utils/deprecation.py\u001b[0m in \u001b[0;36mwrapped\u001b[0;34m(*args, **kwargs)\u001b[0m\n\u001b[1;32m     86\u001b[0m         \u001b[0;32mdef\u001b[0m \u001b[0mwrapped\u001b[0m\u001b[0;34m(\u001b[0m\u001b[0;34m*\u001b[0m\u001b[0margs\u001b[0m\u001b[0;34m,\u001b[0m \u001b[0;34m**\u001b[0m\u001b[0mkwargs\u001b[0m\u001b[0;34m)\u001b[0m\u001b[0;34m:\u001b[0m\u001b[0;34m\u001b[0m\u001b[0;34m\u001b[0m\u001b[0m\n\u001b[1;32m     87\u001b[0m             \u001b[0mwarnings\u001b[0m\u001b[0;34m.\u001b[0m\u001b[0mwarn\u001b[0m\u001b[0;34m(\u001b[0m\u001b[0mmsg\u001b[0m\u001b[0;34m,\u001b[0m \u001b[0mcategory\u001b[0m\u001b[0;34m=\u001b[0m\u001b[0mFutureWarning\u001b[0m\u001b[0;34m)\u001b[0m\u001b[0;34m\u001b[0m\u001b[0;34m\u001b[0m\u001b[0m\n\u001b[0;32m---> 88\u001b[0;31m             \u001b[0;32mreturn\u001b[0m \u001b[0mfun\u001b[0m\u001b[0;34m(\u001b[0m\u001b[0;34m*\u001b[0m\u001b[0margs\u001b[0m\u001b[0;34m,\u001b[0m \u001b[0;34m**\u001b[0m\u001b[0mkwargs\u001b[0m\u001b[0;34m)\u001b[0m\u001b[0;34m\u001b[0m\u001b[0;34m\u001b[0m\u001b[0m\n\u001b[0m\u001b[1;32m     89\u001b[0m \u001b[0;34m\u001b[0m\u001b[0m\n\u001b[1;32m     90\u001b[0m         \u001b[0mwrapped\u001b[0m\u001b[0;34m.\u001b[0m\u001b[0m__doc__\u001b[0m \u001b[0;34m=\u001b[0m \u001b[0mself\u001b[0m\u001b[0;34m.\u001b[0m\u001b[0m_update_doc\u001b[0m\u001b[0;34m(\u001b[0m\u001b[0mwrapped\u001b[0m\u001b[0;34m.\u001b[0m\u001b[0m__doc__\u001b[0m\u001b[0;34m)\u001b[0m\u001b[0;34m\u001b[0m\u001b[0;34m\u001b[0m\u001b[0m\n",
            "\u001b[0;32m/usr/local/lib/python3.7/dist-packages/sklearn/metrics/_plot/confusion_matrix.py\u001b[0m in \u001b[0;36mplot_confusion_matrix\u001b[0;34m(estimator, X, y_true, labels, sample_weight, normalize, display_labels, include_values, xticks_rotation, values_format, cmap, ax, colorbar)\u001b[0m\n\u001b[1;32m    561\u001b[0m \u001b[0;34m\u001b[0m\u001b[0m\n\u001b[1;32m    562\u001b[0m     \u001b[0;32mif\u001b[0m \u001b[0;32mnot\u001b[0m \u001b[0mis_classifier\u001b[0m\u001b[0;34m(\u001b[0m\u001b[0mestimator\u001b[0m\u001b[0;34m)\u001b[0m\u001b[0;34m:\u001b[0m\u001b[0;34m\u001b[0m\u001b[0;34m\u001b[0m\u001b[0m\n\u001b[0;32m--> 563\u001b[0;31m         \u001b[0;32mraise\u001b[0m \u001b[0mValueError\u001b[0m\u001b[0;34m(\u001b[0m\u001b[0;34m\"plot_confusion_matrix only supports classifiers\"\u001b[0m\u001b[0;34m)\u001b[0m\u001b[0;34m\u001b[0m\u001b[0;34m\u001b[0m\u001b[0m\n\u001b[0m\u001b[1;32m    564\u001b[0m \u001b[0;34m\u001b[0m\u001b[0m\n\u001b[1;32m    565\u001b[0m     \u001b[0my_pred\u001b[0m \u001b[0;34m=\u001b[0m \u001b[0mestimator\u001b[0m\u001b[0;34m.\u001b[0m\u001b[0mpredict\u001b[0m\u001b[0;34m(\u001b[0m\u001b[0mX\u001b[0m\u001b[0;34m)\u001b[0m\u001b[0;34m\u001b[0m\u001b[0;34m\u001b[0m\u001b[0m\n",
            "\u001b[0;31mValueError\u001b[0m: plot_confusion_matrix only supports classifiers"
          ]
        },
        {
          "output_type": "display_data",
          "data": {
            "text/plain": [
              "<Figure size 432x288 with 0 Axes>"
            ]
          },
          "metadata": {}
        }
      ]
    },
    {
      "cell_type": "code",
      "source": [
        "#We can change the hyperparameters to tune our model. \n",
        "#We can also perform a grid search to find the hyperparameter values that supply optimum results. We can use the following code to set the hyperparameter values:\n",
        "grid_search_parameters={'criterion':['gini','entropy'],\n",
        "                        'min_samples_split':[2],\n",
        "                        'max_depth':[None,2,3],\n",
        "                        'min_samples_leaf':[1,5],\n",
        "                        'max_leaf_nodes':[None],}"
      ],
      "metadata": {
        "id": "VJ613Bad7Iaq"
      },
      "execution_count": 41,
      "outputs": []
    },
    {
      "cell_type": "code",
      "source": [
        "#We will use GridSearchCV() to grid search the parameters:\n",
        "from sklearn.model_selection import GridSearchCV\n",
        "classifier=tree.DecisionTreeClassifier()\n",
        "\n",
        "# Use Grisearchcv pass the values\n",
        "model_DT_Grid=GridSearchCV(classifier,grid_search_parameters,cv=10)\n",
        "model_DT_Grid.fit(X_train, Y_train)"
      ],
      "metadata": {
        "colab": {
          "base_uri": "https://localhost:8080/"
        },
        "id": "5HcFtC9o7mzo",
        "outputId": "9ae8a1bc-a34f-4fdf-b62e-300f1d1013f4"
      },
      "execution_count": 42,
      "outputs": [
        {
          "output_type": "execute_result",
          "data": {
            "text/plain": [
              "GridSearchCV(cv=10, estimator=DecisionTreeClassifier(),\n",
              "             param_grid={'criterion': ['gini', 'entropy'],\n",
              "                         'max_depth': [None, 2, 3], 'max_leaf_nodes': [None],\n",
              "                         'min_samples_leaf': [1, 5], 'min_samples_split': [2]})"
            ]
          },
          "metadata": {},
          "execution_count": 42
        }
      ]
    },
    {
      "cell_type": "code",
      "source": [
        "#After running the preceding command, we can see the best parameter values among those provided using best_params_: #\n",
        "model_DT_Grid.best_params_"
      ],
      "metadata": {
        "colab": {
          "base_uri": "https://localhost:8080/"
        },
        "id": "0KBJ1EiO8JY-",
        "outputId": "e73fb19c-4b75-4f17-bc21-f43c79190f7f"
      },
      "execution_count": 43,
      "outputs": [
        {
          "output_type": "execute_result",
          "data": {
            "text/plain": [
              "{'criterion': 'entropy',\n",
              " 'max_depth': None,\n",
              " 'max_leaf_nodes': None,\n",
              " 'min_samples_leaf': 1,\n",
              " 'min_samples_split': 2}"
            ]
          },
          "metadata": {},
          "execution_count": 43
        }
      ]
    },
    {
      "cell_type": "code",
      "source": [
        "#use the model that is selected using the GridSearchCV() function:\n",
        "test_predictedvaues=model_DT_Grid.predict(X_test)\n",
        "acc=accuracy_score(Y_test,test_predictedvaues)\n",
        "print(\"Accuracy is :\",acc)\n",
        "tn, fp, fn, tp = confusion_matrix(Y_test, test_predictedvaues).ravel()\n",
        "print(\"TN:\",tn, \" FP:\",fp, \" FN:\",fn, \" TP:\",tp)\n",
        "\n",
        "cm = confusion_matrix(Y_test, test_predictedvaues)\n",
        "\n",
        "plt.figure()\n",
        "plot_confusion_matrix(cm, classes=target_names, normalize=False)\n",
        "plt.show()\n"
      ],
      "metadata": {
        "colab": {
          "base_uri": "https://localhost:8080/",
          "height": 446
        },
        "id": "Oe8YTWOj8XTg",
        "outputId": "4b992ca7-26ff-4460-ad5a-9e8969d81717"
      },
      "execution_count": 44,
      "outputs": [
        {
          "output_type": "stream",
          "name": "stdout",
          "text": [
            "Accuracy is : 0.9025605774188005\n",
            "TN: 8799  FP: 640  FN: 494  TP: 1705\n"
          ]
        },
        {
          "output_type": "stream",
          "name": "stderr",
          "text": [
            "/usr/local/lib/python3.7/dist-packages/sklearn/utils/deprecation.py:87: FutureWarning: Function plot_confusion_matrix is deprecated; Function `plot_confusion_matrix` is deprecated in 1.0 and will be removed in 1.2. Use one of the class methods: ConfusionMatrixDisplay.from_predictions or ConfusionMatrixDisplay.from_estimator.\n",
            "  warnings.warn(msg, category=FutureWarning)\n"
          ]
        },
        {
          "output_type": "error",
          "ename": "TypeError",
          "evalue": "ignored",
          "traceback": [
            "\u001b[0;31m---------------------------------------------------------------------------\u001b[0m",
            "\u001b[0;31mTypeError\u001b[0m                                 Traceback (most recent call last)",
            "\u001b[0;32m<ipython-input-44-bf20ca52caed>\u001b[0m in \u001b[0;36m<module>\u001b[0;34m\u001b[0m\n\u001b[1;32m      9\u001b[0m \u001b[0;34m\u001b[0m\u001b[0m\n\u001b[1;32m     10\u001b[0m \u001b[0mplt\u001b[0m\u001b[0;34m.\u001b[0m\u001b[0mfigure\u001b[0m\u001b[0;34m(\u001b[0m\u001b[0;34m)\u001b[0m\u001b[0;34m\u001b[0m\u001b[0;34m\u001b[0m\u001b[0m\n\u001b[0;32m---> 11\u001b[0;31m \u001b[0mplot_confusion_matrix\u001b[0m\u001b[0;34m(\u001b[0m\u001b[0mcm\u001b[0m\u001b[0;34m,\u001b[0m \u001b[0mclasses\u001b[0m\u001b[0;34m=\u001b[0m\u001b[0mtarget_names\u001b[0m\u001b[0;34m,\u001b[0m \u001b[0mnormalize\u001b[0m\u001b[0;34m=\u001b[0m\u001b[0;32mFalse\u001b[0m\u001b[0;34m)\u001b[0m\u001b[0;34m\u001b[0m\u001b[0;34m\u001b[0m\u001b[0m\n\u001b[0m\u001b[1;32m     12\u001b[0m \u001b[0mplt\u001b[0m\u001b[0;34m.\u001b[0m\u001b[0mshow\u001b[0m\u001b[0;34m(\u001b[0m\u001b[0;34m)\u001b[0m\u001b[0;34m\u001b[0m\u001b[0;34m\u001b[0m\u001b[0m\n",
            "\u001b[0;32m/usr/local/lib/python3.7/dist-packages/sklearn/utils/deprecation.py\u001b[0m in \u001b[0;36mwrapped\u001b[0;34m(*args, **kwargs)\u001b[0m\n\u001b[1;32m     86\u001b[0m         \u001b[0;32mdef\u001b[0m \u001b[0mwrapped\u001b[0m\u001b[0;34m(\u001b[0m\u001b[0;34m*\u001b[0m\u001b[0margs\u001b[0m\u001b[0;34m,\u001b[0m \u001b[0;34m**\u001b[0m\u001b[0mkwargs\u001b[0m\u001b[0;34m)\u001b[0m\u001b[0;34m:\u001b[0m\u001b[0;34m\u001b[0m\u001b[0;34m\u001b[0m\u001b[0m\n\u001b[1;32m     87\u001b[0m             \u001b[0mwarnings\u001b[0m\u001b[0;34m.\u001b[0m\u001b[0mwarn\u001b[0m\u001b[0;34m(\u001b[0m\u001b[0mmsg\u001b[0m\u001b[0;34m,\u001b[0m \u001b[0mcategory\u001b[0m\u001b[0;34m=\u001b[0m\u001b[0mFutureWarning\u001b[0m\u001b[0;34m)\u001b[0m\u001b[0;34m\u001b[0m\u001b[0;34m\u001b[0m\u001b[0m\n\u001b[0;32m---> 88\u001b[0;31m             \u001b[0;32mreturn\u001b[0m \u001b[0mfun\u001b[0m\u001b[0;34m(\u001b[0m\u001b[0;34m*\u001b[0m\u001b[0margs\u001b[0m\u001b[0;34m,\u001b[0m \u001b[0;34m**\u001b[0m\u001b[0mkwargs\u001b[0m\u001b[0;34m)\u001b[0m\u001b[0;34m\u001b[0m\u001b[0;34m\u001b[0m\u001b[0m\n\u001b[0m\u001b[1;32m     89\u001b[0m \u001b[0;34m\u001b[0m\u001b[0m\n\u001b[1;32m     90\u001b[0m         \u001b[0mwrapped\u001b[0m\u001b[0;34m.\u001b[0m\u001b[0m__doc__\u001b[0m \u001b[0;34m=\u001b[0m \u001b[0mself\u001b[0m\u001b[0;34m.\u001b[0m\u001b[0m_update_doc\u001b[0m\u001b[0;34m(\u001b[0m\u001b[0mwrapped\u001b[0m\u001b[0;34m.\u001b[0m\u001b[0m__doc__\u001b[0m\u001b[0;34m)\u001b[0m\u001b[0;34m\u001b[0m\u001b[0;34m\u001b[0m\u001b[0m\n",
            "\u001b[0;31mTypeError\u001b[0m: plot_confusion_matrix() got an unexpected keyword argument 'classes'"
          ]
        },
        {
          "output_type": "display_data",
          "data": {
            "text/plain": [
              "<Figure size 432x288 with 0 Axes>"
            ]
          },
          "metadata": {}
        }
      ]
    },
    {
      "cell_type": "code",
      "source": [
        "from sklearn.metrics import classification_report\n",
        "#In order to see the metrics per-label, we can also use the classification_report, as follows:\n",
        "print(classification_report(Y_test,test_predictedvaues,target_names=target_names))"
      ],
      "metadata": {
        "colab": {
          "base_uri": "https://localhost:8080/"
        },
        "id": "ERzb2Qo583q_",
        "outputId": "b5bf73a4-3323-4dbd-a75e-ce5e7efe1488"
      },
      "execution_count": 45,
      "outputs": [
        {
          "output_type": "stream",
          "name": "stdout",
          "text": [
            "              precision    recall  f1-score   support\n",
            "\n",
            "          No       0.95      0.93      0.94      9439\n",
            "         Yes       0.73      0.78      0.75      2199\n",
            "\n",
            "    accuracy                           0.90     11638\n",
            "   macro avg       0.84      0.85      0.84     11638\n",
            "weighted avg       0.91      0.90      0.90     11638\n",
            "\n"
          ]
        }
      ]
    }
  ]
}